{
 "cells": [
  {
   "metadata": {},
   "cell_type": "markdown",
   "source": "## _**Uber and Lyft**_ ",
   "id": "52fd34d5fc7786a7"
  },
  {
   "metadata": {},
   "cell_type": "markdown",
   "source": "1. Setup and Data Loading",
   "id": "2a4e73dcb622302d"
  },
  {
   "cell_type": "code",
   "id": "initial_id",
   "metadata": {
    "collapsed": true,
    "ExecuteTime": {
     "end_time": "2025-05-06T03:16:59.050410Z",
     "start_time": "2025-05-06T03:16:58.284203Z"
    }
   },
   "source": [
    "import pandas as pd\n",
    "import numpy as np\n",
    "import matplotlib.pyplot as plt\n",
    "import seaborn as sns\n",
    "from sklearn.model_selection import train_test_split, GridSearchCV\n",
    "from sklearn.preprocessing import StandardScaler, PolynomialFeatures\n",
    "from sklearn.linear_model import LinearRegression, Ridge, Lasso\n",
    "from sklearn.metrics import mean_squared_error, mean_absolute_error, r2_score"
   ],
   "outputs": [],
   "execution_count": 2
  },
  {
   "metadata": {
    "ExecuteTime": {
     "end_time": "2025-05-06T03:17:05.661198Z",
     "start_time": "2025-05-06T03:17:00.036938Z"
    }
   },
   "cell_type": "code",
   "source": [
    "df = pd.read_csv('Data/rideshare_kaggle.csv')\n",
    "\n",
    "print(df.info)\n",
    "print(df.describe())"
   ],
   "id": "2bbf9f0086639827",
   "outputs": [
    {
     "name": "stdout",
     "output_type": "stream",
     "text": [
      "<bound method DataFrame.info of                                           id     timestamp  hour  day  month  \\\n",
      "0       424553bb-7174-41ea-aeb4-fe06d4f4b9d7  1.544953e+09     9   16     12   \n",
      "1       4bd23055-6827-41c6-b23b-3c491f24e74d  1.543284e+09     2   27     11   \n",
      "2       981a3613-77af-4620-a42a-0c0866077d1e  1.543367e+09     1   28     11   \n",
      "3       c2d88af2-d278-4bfd-a8d0-29ca77cc5512  1.543554e+09     4   30     11   \n",
      "4       e0126e1f-8ca9-4f2e-82b3-50505a09db9a  1.543463e+09     3   29     11   \n",
      "...                                      ...           ...   ...  ...    ...   \n",
      "693066  616d3611-1820-450a-9845-a9ff304a4842  1.543708e+09    23    1     12   \n",
      "693067  633a3fc3-1f86-4b9e-9d48-2b7132112341  1.543708e+09    23    1     12   \n",
      "693068  64d451d0-639f-47a4-9b7c-6fd92fbd264f  1.543708e+09    23    1     12   \n",
      "693069  727e5f07-a96b-4ad1-a2c7-9abc3ad55b4e  1.543708e+09    23    1     12   \n",
      "693070  e7fdc087-fe86-40a5-a3c3-3b2a8badcbda  1.543708e+09    23    1     12   \n",
      "\n",
      "                   datetime          timezone            source  \\\n",
      "0       2018-12-16 09:30:07  America/New_York  Haymarket Square   \n",
      "1       2018-11-27 02:00:23  America/New_York  Haymarket Square   \n",
      "2       2018-11-28 01:00:22  America/New_York  Haymarket Square   \n",
      "3       2018-11-30 04:53:02  America/New_York  Haymarket Square   \n",
      "4       2018-11-29 03:49:20  America/New_York  Haymarket Square   \n",
      "...                     ...               ...               ...   \n",
      "693066  2018-12-01 23:53:05  America/New_York          West End   \n",
      "693067  2018-12-01 23:53:05  America/New_York          West End   \n",
      "693068  2018-12-01 23:53:05  America/New_York          West End   \n",
      "693069  2018-12-01 23:53:05  America/New_York          West End   \n",
      "693070  2018-12-01 23:53:05  America/New_York          West End   \n",
      "\n",
      "          destination cab_type  ... precipIntensityMax uvIndexTime  \\\n",
      "0       North Station     Lyft  ...             0.1276  1544979600   \n",
      "1       North Station     Lyft  ...             0.1300  1543251600   \n",
      "2       North Station     Lyft  ...             0.1064  1543338000   \n",
      "3       North Station     Lyft  ...             0.0000  1543507200   \n",
      "4       North Station     Lyft  ...             0.0001  1543420800   \n",
      "...               ...      ...  ...                ...         ...   \n",
      "693066      North End     Uber  ...             0.0000  1543683600   \n",
      "693067      North End     Uber  ...             0.0000  1543683600   \n",
      "693068      North End     Uber  ...             0.0000  1543683600   \n",
      "693069      North End     Uber  ...             0.0000  1543683600   \n",
      "693070      North End     Uber  ...             0.0000  1543683600   \n",
      "\n",
      "        temperatureMin  temperatureMinTime  temperatureMax  \\\n",
      "0                39.89          1545012000           43.68   \n",
      "1                40.49          1543233600           47.30   \n",
      "2                35.36          1543377600           47.55   \n",
      "3                34.67          1543550400           45.03   \n",
      "4                33.10          1543402800           42.18   \n",
      "...                ...                 ...             ...   \n",
      "693066           31.42          1543658400           44.76   \n",
      "693067           31.42          1543658400           44.76   \n",
      "693068           31.42          1543658400           44.76   \n",
      "693069           31.42          1543658400           44.76   \n",
      "693070           31.42          1543658400           44.76   \n",
      "\n",
      "        temperatureMaxTime  apparentTemperatureMin  \\\n",
      "0               1544968800                   33.73   \n",
      "1               1543251600                   36.20   \n",
      "2               1543320000                   31.04   \n",
      "3               1543510800                   30.30   \n",
      "4               1543420800                   29.11   \n",
      "...                    ...                     ...   \n",
      "693066          1543690800                   27.77   \n",
      "693067          1543690800                   27.77   \n",
      "693068          1543690800                   27.77   \n",
      "693069          1543690800                   27.77   \n",
      "693070          1543690800                   27.77   \n",
      "\n",
      "        apparentTemperatureMinTime  apparentTemperatureMax  \\\n",
      "0                       1545012000                   38.07   \n",
      "1                       1543291200                   43.92   \n",
      "2                       1543377600                   44.12   \n",
      "3                       1543550400                   38.53   \n",
      "4                       1543392000                   35.75   \n",
      "...                            ...                     ...   \n",
      "693066                  1543658400                   44.09   \n",
      "693067                  1543658400                   44.09   \n",
      "693068                  1543658400                   44.09   \n",
      "693069                  1543658400                   44.09   \n",
      "693070                  1543658400                   44.09   \n",
      "\n",
      "       apparentTemperatureMaxTime  \n",
      "0                      1544958000  \n",
      "1                      1543251600  \n",
      "2                      1543320000  \n",
      "3                      1543510800  \n",
      "4                      1543420800  \n",
      "...                           ...  \n",
      "693066                 1543690800  \n",
      "693067                 1543690800  \n",
      "693068                 1543690800  \n",
      "693069                 1543690800  \n",
      "693070                 1543690800  \n",
      "\n",
      "[693071 rows x 57 columns]>\n",
      "          timestamp           hour            day          month  \\\n",
      "count  6.930710e+05  693071.000000  693071.000000  693071.000000   \n",
      "mean   1.544046e+09      11.619137      17.794365      11.586684   \n",
      "std    6.891925e+05       6.948114       9.982286       0.492429   \n",
      "min    1.543204e+09       0.000000       1.000000      11.000000   \n",
      "25%    1.543444e+09       6.000000      13.000000      11.000000   \n",
      "50%    1.543737e+09      12.000000      17.000000      12.000000   \n",
      "75%    1.544828e+09      18.000000      28.000000      12.000000   \n",
      "max    1.545161e+09      23.000000      30.000000      12.000000   \n",
      "\n",
      "               price       distance  surge_multiplier       latitude  \\\n",
      "count  637976.000000  693071.000000     693071.000000  693071.000000   \n",
      "mean       16.545125       2.189430          1.013870      42.338172   \n",
      "std         9.324359       1.138937          0.091641       0.047840   \n",
      "min         2.500000       0.020000          1.000000      42.214800   \n",
      "25%         9.000000       1.280000          1.000000      42.350300   \n",
      "50%        13.500000       2.160000          1.000000      42.351900   \n",
      "75%        22.500000       2.920000          1.000000      42.364700   \n",
      "max        97.500000       7.860000          3.000000      42.366100   \n",
      "\n",
      "           longitude    temperature  ...  precipIntensityMax   uvIndexTime  \\\n",
      "count  693071.000000  693071.000000  ...       693071.000000  6.930710e+05   \n",
      "mean      -71.066151      39.584388  ...            0.037374  1.544044e+09   \n",
      "std         0.020302       6.726084  ...            0.055214  6.912028e+05   \n",
      "min       -71.105400      18.910000  ...            0.000000  1.543162e+09   \n",
      "25%       -71.081000      36.450000  ...            0.000000  1.543421e+09   \n",
      "50%       -71.063100      40.490000  ...            0.000400  1.543770e+09   \n",
      "75%       -71.054200      43.580000  ...            0.091600  1.544807e+09   \n",
      "max       -71.033000      57.220000  ...            0.145900  1.545152e+09   \n",
      "\n",
      "       temperatureMin  temperatureMinTime  temperatureMax  temperatureMaxTime  \\\n",
      "count   693071.000000        6.930710e+05   693071.000000        6.930710e+05   \n",
      "mean        33.457774        1.544042e+09       45.261313        1.544047e+09   \n",
      "std          6.467224        6.901954e+05        5.645046        6.901353e+05   \n",
      "min         15.630000        1.543122e+09       33.510000        1.543154e+09   \n",
      "25%         30.170000        1.543399e+09       42.570000        1.543439e+09   \n",
      "50%         34.240000        1.543727e+09       44.680000        1.543788e+09   \n",
      "75%         38.880000        1.544789e+09       46.910000        1.544814e+09   \n",
      "max         43.100000        1.545192e+09       57.870000        1.545109e+09   \n",
      "\n",
      "       apparentTemperatureMin  apparentTemperatureMinTime  \\\n",
      "count           693071.000000                6.930710e+05   \n",
      "mean                29.731002                1.544048e+09   \n",
      "std                  7.110494                6.871862e+05   \n",
      "min                 11.810000                1.543136e+09   \n",
      "25%                 27.760000                1.543399e+09   \n",
      "50%                 30.130000                1.543745e+09   \n",
      "75%                 35.710000                1.544789e+09   \n",
      "max                 40.050000                1.545134e+09   \n",
      "\n",
      "       apparentTemperatureMax  apparentTemperatureMaxTime  \n",
      "count           693071.000000                6.930710e+05  \n",
      "mean                41.997343                1.544048e+09  \n",
      "std                  6.936841                6.910777e+05  \n",
      "min                 28.950000                1.543187e+09  \n",
      "25%                 36.570000                1.543439e+09  \n",
      "50%                 40.950000                1.543788e+09  \n",
      "75%                 44.120000                1.544818e+09  \n",
      "max                 57.200000                1.545109e+09  \n",
      "\n",
      "[8 rows x 46 columns]\n"
     ]
    }
   ],
   "execution_count": 3
  },
  {
   "metadata": {
    "ExecuteTime": {
     "end_time": "2025-05-06T03:17:06.488520Z",
     "start_time": "2025-05-06T03:17:06.479402Z"
    }
   },
   "cell_type": "code",
   "source": "df.columns",
   "id": "157c6b4a49c804bf",
   "outputs": [
    {
     "data": {
      "text/plain": [
       "Index(['id', 'timestamp', 'hour', 'day', 'month', 'datetime', 'timezone',\n",
       "       'source', 'destination', 'cab_type', 'product_id', 'name', 'price',\n",
       "       'distance', 'surge_multiplier', 'latitude', 'longitude', 'temperature',\n",
       "       'apparentTemperature', 'short_summary', 'long_summary',\n",
       "       'precipIntensity', 'precipProbability', 'humidity', 'windSpeed',\n",
       "       'windGust', 'windGustTime', 'visibility', 'temperatureHigh',\n",
       "       'temperatureHighTime', 'temperatureLow', 'temperatureLowTime',\n",
       "       'apparentTemperatureHigh', 'apparentTemperatureHighTime',\n",
       "       'apparentTemperatureLow', 'apparentTemperatureLowTime', 'icon',\n",
       "       'dewPoint', 'pressure', 'windBearing', 'cloudCover', 'uvIndex',\n",
       "       'visibility.1', 'ozone', 'sunriseTime', 'sunsetTime', 'moonPhase',\n",
       "       'precipIntensityMax', 'uvIndexTime', 'temperatureMin',\n",
       "       'temperatureMinTime', 'temperatureMax', 'temperatureMaxTime',\n",
       "       'apparentTemperatureMin', 'apparentTemperatureMinTime',\n",
       "       'apparentTemperatureMax', 'apparentTemperatureMaxTime'],\n",
       "      dtype='object')"
      ]
     },
     "execution_count": 4,
     "metadata": {},
     "output_type": "execute_result"
    }
   ],
   "execution_count": 4
  },
  {
   "metadata": {
    "ExecuteTime": {
     "end_time": "2025-05-06T03:17:07.294861Z",
     "start_time": "2025-05-06T03:17:07.271055Z"
    }
   },
   "cell_type": "code",
   "source": "df.head()",
   "id": "51448adcc1583221",
   "outputs": [
    {
     "data": {
      "text/plain": [
       "                                     id     timestamp  hour  day  month  \\\n",
       "0  424553bb-7174-41ea-aeb4-fe06d4f4b9d7  1.544953e+09     9   16     12   \n",
       "1  4bd23055-6827-41c6-b23b-3c491f24e74d  1.543284e+09     2   27     11   \n",
       "2  981a3613-77af-4620-a42a-0c0866077d1e  1.543367e+09     1   28     11   \n",
       "3  c2d88af2-d278-4bfd-a8d0-29ca77cc5512  1.543554e+09     4   30     11   \n",
       "4  e0126e1f-8ca9-4f2e-82b3-50505a09db9a  1.543463e+09     3   29     11   \n",
       "\n",
       "              datetime          timezone            source    destination  \\\n",
       "0  2018-12-16 09:30:07  America/New_York  Haymarket Square  North Station   \n",
       "1  2018-11-27 02:00:23  America/New_York  Haymarket Square  North Station   \n",
       "2  2018-11-28 01:00:22  America/New_York  Haymarket Square  North Station   \n",
       "3  2018-11-30 04:53:02  America/New_York  Haymarket Square  North Station   \n",
       "4  2018-11-29 03:49:20  America/New_York  Haymarket Square  North Station   \n",
       "\n",
       "  cab_type  ... precipIntensityMax uvIndexTime  temperatureMin  \\\n",
       "0     Lyft  ...             0.1276  1544979600           39.89   \n",
       "1     Lyft  ...             0.1300  1543251600           40.49   \n",
       "2     Lyft  ...             0.1064  1543338000           35.36   \n",
       "3     Lyft  ...             0.0000  1543507200           34.67   \n",
       "4     Lyft  ...             0.0001  1543420800           33.10   \n",
       "\n",
       "   temperatureMinTime  temperatureMax  temperatureMaxTime  \\\n",
       "0          1545012000           43.68          1544968800   \n",
       "1          1543233600           47.30          1543251600   \n",
       "2          1543377600           47.55          1543320000   \n",
       "3          1543550400           45.03          1543510800   \n",
       "4          1543402800           42.18          1543420800   \n",
       "\n",
       "   apparentTemperatureMin  apparentTemperatureMinTime  apparentTemperatureMax  \\\n",
       "0                   33.73                  1545012000                   38.07   \n",
       "1                   36.20                  1543291200                   43.92   \n",
       "2                   31.04                  1543377600                   44.12   \n",
       "3                   30.30                  1543550400                   38.53   \n",
       "4                   29.11                  1543392000                   35.75   \n",
       "\n",
       "  apparentTemperatureMaxTime  \n",
       "0                 1544958000  \n",
       "1                 1543251600  \n",
       "2                 1543320000  \n",
       "3                 1543510800  \n",
       "4                 1543420800  \n",
       "\n",
       "[5 rows x 57 columns]"
      ],
      "text/html": [
       "<div>\n",
       "<style scoped>\n",
       "    .dataframe tbody tr th:only-of-type {\n",
       "        vertical-align: middle;\n",
       "    }\n",
       "\n",
       "    .dataframe tbody tr th {\n",
       "        vertical-align: top;\n",
       "    }\n",
       "\n",
       "    .dataframe thead th {\n",
       "        text-align: right;\n",
       "    }\n",
       "</style>\n",
       "<table border=\"1\" class=\"dataframe\">\n",
       "  <thead>\n",
       "    <tr style=\"text-align: right;\">\n",
       "      <th></th>\n",
       "      <th>id</th>\n",
       "      <th>timestamp</th>\n",
       "      <th>hour</th>\n",
       "      <th>day</th>\n",
       "      <th>month</th>\n",
       "      <th>datetime</th>\n",
       "      <th>timezone</th>\n",
       "      <th>source</th>\n",
       "      <th>destination</th>\n",
       "      <th>cab_type</th>\n",
       "      <th>...</th>\n",
       "      <th>precipIntensityMax</th>\n",
       "      <th>uvIndexTime</th>\n",
       "      <th>temperatureMin</th>\n",
       "      <th>temperatureMinTime</th>\n",
       "      <th>temperatureMax</th>\n",
       "      <th>temperatureMaxTime</th>\n",
       "      <th>apparentTemperatureMin</th>\n",
       "      <th>apparentTemperatureMinTime</th>\n",
       "      <th>apparentTemperatureMax</th>\n",
       "      <th>apparentTemperatureMaxTime</th>\n",
       "    </tr>\n",
       "  </thead>\n",
       "  <tbody>\n",
       "    <tr>\n",
       "      <th>0</th>\n",
       "      <td>424553bb-7174-41ea-aeb4-fe06d4f4b9d7</td>\n",
       "      <td>1.544953e+09</td>\n",
       "      <td>9</td>\n",
       "      <td>16</td>\n",
       "      <td>12</td>\n",
       "      <td>2018-12-16 09:30:07</td>\n",
       "      <td>America/New_York</td>\n",
       "      <td>Haymarket Square</td>\n",
       "      <td>North Station</td>\n",
       "      <td>Lyft</td>\n",
       "      <td>...</td>\n",
       "      <td>0.1276</td>\n",
       "      <td>1544979600</td>\n",
       "      <td>39.89</td>\n",
       "      <td>1545012000</td>\n",
       "      <td>43.68</td>\n",
       "      <td>1544968800</td>\n",
       "      <td>33.73</td>\n",
       "      <td>1545012000</td>\n",
       "      <td>38.07</td>\n",
       "      <td>1544958000</td>\n",
       "    </tr>\n",
       "    <tr>\n",
       "      <th>1</th>\n",
       "      <td>4bd23055-6827-41c6-b23b-3c491f24e74d</td>\n",
       "      <td>1.543284e+09</td>\n",
       "      <td>2</td>\n",
       "      <td>27</td>\n",
       "      <td>11</td>\n",
       "      <td>2018-11-27 02:00:23</td>\n",
       "      <td>America/New_York</td>\n",
       "      <td>Haymarket Square</td>\n",
       "      <td>North Station</td>\n",
       "      <td>Lyft</td>\n",
       "      <td>...</td>\n",
       "      <td>0.1300</td>\n",
       "      <td>1543251600</td>\n",
       "      <td>40.49</td>\n",
       "      <td>1543233600</td>\n",
       "      <td>47.30</td>\n",
       "      <td>1543251600</td>\n",
       "      <td>36.20</td>\n",
       "      <td>1543291200</td>\n",
       "      <td>43.92</td>\n",
       "      <td>1543251600</td>\n",
       "    </tr>\n",
       "    <tr>\n",
       "      <th>2</th>\n",
       "      <td>981a3613-77af-4620-a42a-0c0866077d1e</td>\n",
       "      <td>1.543367e+09</td>\n",
       "      <td>1</td>\n",
       "      <td>28</td>\n",
       "      <td>11</td>\n",
       "      <td>2018-11-28 01:00:22</td>\n",
       "      <td>America/New_York</td>\n",
       "      <td>Haymarket Square</td>\n",
       "      <td>North Station</td>\n",
       "      <td>Lyft</td>\n",
       "      <td>...</td>\n",
       "      <td>0.1064</td>\n",
       "      <td>1543338000</td>\n",
       "      <td>35.36</td>\n",
       "      <td>1543377600</td>\n",
       "      <td>47.55</td>\n",
       "      <td>1543320000</td>\n",
       "      <td>31.04</td>\n",
       "      <td>1543377600</td>\n",
       "      <td>44.12</td>\n",
       "      <td>1543320000</td>\n",
       "    </tr>\n",
       "    <tr>\n",
       "      <th>3</th>\n",
       "      <td>c2d88af2-d278-4bfd-a8d0-29ca77cc5512</td>\n",
       "      <td>1.543554e+09</td>\n",
       "      <td>4</td>\n",
       "      <td>30</td>\n",
       "      <td>11</td>\n",
       "      <td>2018-11-30 04:53:02</td>\n",
       "      <td>America/New_York</td>\n",
       "      <td>Haymarket Square</td>\n",
       "      <td>North Station</td>\n",
       "      <td>Lyft</td>\n",
       "      <td>...</td>\n",
       "      <td>0.0000</td>\n",
       "      <td>1543507200</td>\n",
       "      <td>34.67</td>\n",
       "      <td>1543550400</td>\n",
       "      <td>45.03</td>\n",
       "      <td>1543510800</td>\n",
       "      <td>30.30</td>\n",
       "      <td>1543550400</td>\n",
       "      <td>38.53</td>\n",
       "      <td>1543510800</td>\n",
       "    </tr>\n",
       "    <tr>\n",
       "      <th>4</th>\n",
       "      <td>e0126e1f-8ca9-4f2e-82b3-50505a09db9a</td>\n",
       "      <td>1.543463e+09</td>\n",
       "      <td>3</td>\n",
       "      <td>29</td>\n",
       "      <td>11</td>\n",
       "      <td>2018-11-29 03:49:20</td>\n",
       "      <td>America/New_York</td>\n",
       "      <td>Haymarket Square</td>\n",
       "      <td>North Station</td>\n",
       "      <td>Lyft</td>\n",
       "      <td>...</td>\n",
       "      <td>0.0001</td>\n",
       "      <td>1543420800</td>\n",
       "      <td>33.10</td>\n",
       "      <td>1543402800</td>\n",
       "      <td>42.18</td>\n",
       "      <td>1543420800</td>\n",
       "      <td>29.11</td>\n",
       "      <td>1543392000</td>\n",
       "      <td>35.75</td>\n",
       "      <td>1543420800</td>\n",
       "    </tr>\n",
       "  </tbody>\n",
       "</table>\n",
       "<p>5 rows × 57 columns</p>\n",
       "</div>"
      ]
     },
     "execution_count": 5,
     "metadata": {},
     "output_type": "execute_result"
    }
   ],
   "execution_count": 5
  },
  {
   "metadata": {
    "ExecuteTime": {
     "end_time": "2025-05-06T03:17:09.179376Z",
     "start_time": "2025-05-06T03:17:08.128034Z"
    }
   },
   "cell_type": "code",
   "source": "df.nunique()",
   "id": "c13d0ef04b4de444",
   "outputs": [
    {
     "data": {
      "text/plain": [
       "id                             693071\n",
       "timestamp                       36179\n",
       "hour                               24\n",
       "day                                17\n",
       "month                               2\n",
       "datetime                        31350\n",
       "timezone                            1\n",
       "source                             12\n",
       "destination                        12\n",
       "cab_type                            2\n",
       "product_id                         13\n",
       "name                               13\n",
       "price                             147\n",
       "distance                          549\n",
       "surge_multiplier                    7\n",
       "latitude                           11\n",
       "longitude                          12\n",
       "temperature                       308\n",
       "apparentTemperature               319\n",
       "short_summary                       9\n",
       "long_summary                       11\n",
       "precipIntensity                    63\n",
       "precipProbability                  29\n",
       "humidity                           51\n",
       "windSpeed                         291\n",
       "windGust                          286\n",
       "windGustTime                       25\n",
       "visibility                        227\n",
       "temperatureHigh                   129\n",
       "temperatureHighTime                23\n",
       "temperatureLow                    133\n",
       "temperatureLowTime                 31\n",
       "apparentTemperatureHigh           124\n",
       "apparentTemperatureHighTime        27\n",
       "apparentTemperatureLow            136\n",
       "apparentTemperatureLowTime         32\n",
       "icon                                7\n",
       "dewPoint                          313\n",
       "pressure                          316\n",
       "windBearing                       195\n",
       "cloudCover                         83\n",
       "uvIndex                             3\n",
       "visibility.1                      227\n",
       "ozone                             274\n",
       "sunriseTime                       110\n",
       "sunsetTime                        114\n",
       "moonPhase                          18\n",
       "precipIntensityMax                 65\n",
       "uvIndexTime                        20\n",
       "temperatureMin                    131\n",
       "temperatureMinTime                 25\n",
       "temperatureMax                    128\n",
       "temperatureMaxTime                 23\n",
       "apparentTemperatureMin            137\n",
       "apparentTemperatureMinTime         29\n",
       "apparentTemperatureMax            125\n",
       "apparentTemperatureMaxTime         27\n",
       "dtype: int64"
      ]
     },
     "execution_count": 6,
     "metadata": {},
     "output_type": "execute_result"
    }
   ],
   "execution_count": 6
  },
  {
   "metadata": {
    "ExecuteTime": {
     "end_time": "2025-05-06T03:17:09.952146Z",
     "start_time": "2025-05-06T03:17:09.935658Z"
    }
   },
   "cell_type": "code",
   "source": "df.dtypes",
   "id": "b8c1e0ae6cb4aecb",
   "outputs": [
    {
     "data": {
      "text/plain": [
       "id                              object\n",
       "timestamp                      float64\n",
       "hour                             int64\n",
       "day                              int64\n",
       "month                            int64\n",
       "datetime                        object\n",
       "timezone                        object\n",
       "source                          object\n",
       "destination                     object\n",
       "cab_type                        object\n",
       "product_id                      object\n",
       "name                            object\n",
       "price                          float64\n",
       "distance                       float64\n",
       "surge_multiplier               float64\n",
       "latitude                       float64\n",
       "longitude                      float64\n",
       "temperature                    float64\n",
       "apparentTemperature            float64\n",
       "short_summary                   object\n",
       "long_summary                    object\n",
       "precipIntensity                float64\n",
       "precipProbability              float64\n",
       "humidity                       float64\n",
       "windSpeed                      float64\n",
       "windGust                       float64\n",
       "windGustTime                     int64\n",
       "visibility                     float64\n",
       "temperatureHigh                float64\n",
       "temperatureHighTime              int64\n",
       "temperatureLow                 float64\n",
       "temperatureLowTime               int64\n",
       "apparentTemperatureHigh        float64\n",
       "apparentTemperatureHighTime      int64\n",
       "apparentTemperatureLow         float64\n",
       "apparentTemperatureLowTime       int64\n",
       "icon                            object\n",
       "dewPoint                       float64\n",
       "pressure                       float64\n",
       "windBearing                      int64\n",
       "cloudCover                     float64\n",
       "uvIndex                          int64\n",
       "visibility.1                   float64\n",
       "ozone                          float64\n",
       "sunriseTime                      int64\n",
       "sunsetTime                       int64\n",
       "moonPhase                      float64\n",
       "precipIntensityMax             float64\n",
       "uvIndexTime                      int64\n",
       "temperatureMin                 float64\n",
       "temperatureMinTime               int64\n",
       "temperatureMax                 float64\n",
       "temperatureMaxTime               int64\n",
       "apparentTemperatureMin         float64\n",
       "apparentTemperatureMinTime       int64\n",
       "apparentTemperatureMax         float64\n",
       "apparentTemperatureMaxTime       int64\n",
       "dtype: object"
      ]
     },
     "execution_count": 7,
     "metadata": {},
     "output_type": "execute_result"
    }
   ],
   "execution_count": 7
  },
  {
   "metadata": {},
   "cell_type": "markdown",
   "source": "2. Data Cleaning and Preprocessing ",
   "id": "870dc185be6e3e6d"
  },
  {
   "metadata": {
    "ExecuteTime": {
     "end_time": "2025-05-06T03:17:18.250523Z",
     "start_time": "2025-05-06T03:17:15.186618Z"
    }
   },
   "cell_type": "code",
   "source": [
    "print(df.isnull().sum())\n",
    "df.dropna(inplace=True)\n",
    "\n",
    "df = df[df['price'] > 0]\n",
    "\n",
    "df.drop_duplicates(inplace=True)\n",
    "\n",
    "df.drop(columns=['id', 'timezone', 'datetime', 'product_id', \"long_summary\", 'icon'], inplace=True)\n",
    "categorical_cols = ['cab_type', 'source', 'destination', 'name', \"short_summary\"]\n",
    "df = pd.get_dummies(df, columns=categorical_cols)\n",
    "\n",
    "df.drop(columns=['timestamp'], inplace=True)"
   ],
   "id": "748b25dcc2086d88",
   "outputs": [
    {
     "name": "stdout",
     "output_type": "stream",
     "text": [
      "id                                 0\n",
      "timestamp                          0\n",
      "hour                               0\n",
      "day                                0\n",
      "month                              0\n",
      "datetime                           0\n",
      "timezone                           0\n",
      "source                             0\n",
      "destination                        0\n",
      "cab_type                           0\n",
      "product_id                         0\n",
      "name                               0\n",
      "price                          55095\n",
      "distance                           0\n",
      "surge_multiplier                   0\n",
      "latitude                           0\n",
      "longitude                          0\n",
      "temperature                        0\n",
      "apparentTemperature                0\n",
      "short_summary                      0\n",
      "long_summary                       0\n",
      "precipIntensity                    0\n",
      "precipProbability                  0\n",
      "humidity                           0\n",
      "windSpeed                          0\n",
      "windGust                           0\n",
      "windGustTime                       0\n",
      "visibility                         0\n",
      "temperatureHigh                    0\n",
      "temperatureHighTime                0\n",
      "temperatureLow                     0\n",
      "temperatureLowTime                 0\n",
      "apparentTemperatureHigh            0\n",
      "apparentTemperatureHighTime        0\n",
      "apparentTemperatureLow             0\n",
      "apparentTemperatureLowTime         0\n",
      "icon                               0\n",
      "dewPoint                           0\n",
      "pressure                           0\n",
      "windBearing                        0\n",
      "cloudCover                         0\n",
      "uvIndex                            0\n",
      "visibility.1                       0\n",
      "ozone                              0\n",
      "sunriseTime                        0\n",
      "sunsetTime                         0\n",
      "moonPhase                          0\n",
      "precipIntensityMax                 0\n",
      "uvIndexTime                        0\n",
      "temperatureMin                     0\n",
      "temperatureMinTime                 0\n",
      "temperatureMax                     0\n",
      "temperatureMaxTime                 0\n",
      "apparentTemperatureMin             0\n",
      "apparentTemperatureMinTime         0\n",
      "apparentTemperatureMax             0\n",
      "apparentTemperatureMaxTime         0\n",
      "dtype: int64\n"
     ]
    }
   ],
   "execution_count": 8
  },
  {
   "metadata": {},
   "cell_type": "markdown",
   "source": "3. Normalization and Splitting ",
   "id": "fd95136bfea5b2ce"
  },
  {
   "metadata": {
    "ExecuteTime": {
     "end_time": "2025-05-06T03:17:25.510439Z",
     "start_time": "2025-05-06T03:17:20.514394Z"
    }
   },
   "cell_type": "code",
   "source": [
    "x = df.drop(columns=['price'], axis=1)\n",
    "y = df['price']\n",
    "\n",
    "scaler = StandardScaler()\n",
    "x_scaled = scaler.fit_transform(x)\n",
    "\n",
    "X_train, X_test, y_train, y_test = train_test_split(x_scaled, y, test_size=0.2)"
   ],
   "id": "ec8e8c29b2aee8a",
   "outputs": [],
   "execution_count": 9
  },
  {
   "metadata": {},
   "cell_type": "markdown",
   "source": "4. Baseline Linear Regression",
   "id": "c264f7b3d317e777"
  },
  {
   "metadata": {
    "ExecuteTime": {
     "end_time": "2025-05-06T03:17:32.956529Z",
     "start_time": "2025-05-06T03:17:26.829101Z"
    }
   },
   "cell_type": "code",
   "source": [
    "lr = LinearRegression()\n",
    "lr.fit(X_train, y_train)\n",
    "y_pred = lr.predict(X_test)\n",
    "\n",
    "print(\"Linear Regression Results:\")\n",
    "print(\"MAE:\", mean_absolute_error(y_test, y_pred))\n",
    "print(\"MSE:\", mean_squared_error(y_test, y_pred))\n",
    "print(\"R2:\", r2_score(y_test, y_pred))\n",
    "\n",
    "sns.histplot(y_test - y_pred, kde=True)\n",
    "plt.title(\"Residuals - Linear Regression\")\n",
    "plt.show()"
   ],
   "id": "67a4796bef594822",
   "outputs": [
    {
     "name": "stdout",
     "output_type": "stream",
     "text": [
      "Linear Regression Results:\n",
      "MAE: 1.7497825210303144\n",
      "MSE: 6.2201733731009385\n",
      "R2: 0.9286003935582503\n"
     ]
    },
    {
     "data": {
      "text/plain": [
       "<Figure size 640x480 with 1 Axes>"
      ],
      "image/png": "[encoded data removed]"
     },
     "metadata": {},
     "output_type": "display_data"
    }
   ],
   "execution_count": 10
  },
  {
   "metadata": {},
   "cell_type": "markdown",
   "source": "5. Ridge & Lasso Regression with Grid Search",
   "id": "82dc474a613ee1f0"
  },
  {
   "metadata": {
    "ExecuteTime": {
     "end_time": "2025-05-06T03:18:58.101144Z",
     "start_time": "2025-05-06T03:17:35.577089Z"
    }
   },
   "cell_type": "code",
   "source": [
    "ridge_params = {'alpha': [0.1, 1, 10, 50, 100]}\n",
    "ridge = GridSearchCV(Ridge(), ridge_params, cv=5)\n",
    "ridge.fit(X_train, y_train)\n",
    "y_ridge = ridge.predict(X_test)\n",
    "\n",
    "lasso_params = {'alpha': [0.01, 0.1, 1, 10]}\n",
    "lasso = GridSearchCV(Lasso(), lasso_params, cv=5)\n",
    "lasso.fit(X_train, y_train)\n",
    "y_lasso = lasso.predict(X_test)\n",
    "\n",
    "print(\"\\nRidge Regression:\")\n",
    "print(\"Best alpha:\", ridge.best_params_['alpha'])\n",
    "print(\"MAE:\", mean_absolute_error(y_test, y_ridge))\n",
    "print(\"MSE:\", mean_squared_error(y_test, y_ridge))\n",
    "print(\"R2:\", r2_score(y_test, y_ridge))\n",
    "\n",
    "print(\"\\nLasso Regression:\")\n",
    "print(\"Best alpha:\", lasso.best_params_['alpha'])\n",
    "print(\"MAE:\", mean_absolute_error(y_test, y_lasso))\n",
    "print(\"MSE:\", mean_squared_error(y_test, y_lasso))\n",
    "print(\"R2:\", r2_score(y_test, y_lasso))\n",
    "\n",
    "sns.histplot(y_test - y_ridge, kde=True)\n",
    "plt.title(\"Residuals - Ridge Regression\")\n",
    "plt.show()\n",
    "\n",
    "sns.histplot(y_test - y_lasso, kde=True)\n",
    "plt.title(\"Residuals - Lasso Regression\")\n",
    "plt.show()"
   ],
   "id": "f696f7131a6df825",
   "outputs": [
    {
     "name": "stdout",
     "output_type": "stream",
     "text": [
      "\n",
      "Ridge Regression:\n",
      "Best alpha: 100\n",
      "MAE: 1.7495662723796144\n",
      "MSE: 6.219988934235741\n",
      "R2: 0.9286025106796869\n",
      "\n",
      "Lasso Regression:\n",
      "Best alpha: 0.01\n",
      "MAE: 1.7462105399770786\n",
      "MSE: 6.223376025015155\n",
      "R2: 0.9285636312250276\n"
     ]
    },
    {
     "data": {
      "text/plain": [
       "<Figure size 640x480 with 1 Axes>"
      ],
      "image/png": "[encoded data removed]"
     },
     "metadata": {},
     "output_type": "display_data"
    },
    {
     "data": {
      "text/plain": [
       "<Figure size 640x480 with 1 Axes>"
      ],
      "image/png": "[encoded data removed]"
     },
     "metadata": {},
     "output_type": "display_data"
    }
   ],
   "execution_count": 11
  },
  {
   "metadata": {},
   "cell_type": "markdown",
   "source": "6. Polynomial Regression (Degree 2)",
   "id": "b1bcc5df3f6e7ded"
  },
  {
   "metadata": {
    "jupyter": {
     "is_executing": true
    },
    "ExecuteTime": {
     "start_time": "2025-05-06T02:47:01.661057Z"
    }
   },
   "cell_type": "code",
   "source": [
    "poly_model = PolynomialFeatures(degree=2, include_bias=False)\n",
    "X_train_poly = poly_model.fit_transform(X_train)\n",
    "X_test_poly = poly_model.transform(X_test)\n",
    "\n",
    "model = LinearRegression()\n",
    "model.fit(X_train_poly, y_train)\n",
    "\n",
    "y_poly = model.predict(X_test_poly)\n",
    "\n",
    "\n",
    "print(\"MAE:\", mean_absolute_error(y_test, y_poly))\n",
    "print(\"MSE:\", mean_squared_error(y_test, y_poly))\n",
    "print(\"R2:\", r2_score(y_test, y_poly))\n",
    "\n",
    "sns.histplot(y_test - y_pred, kde=True)\n",
    "plt.title(\"Residuals - Polynomial Regression\")\n",
    "plt.show()"
   ],
   "id": "fa59e8bceb7c310",
   "outputs": [],
   "execution_count": null
  },
  {
   "metadata": {},
   "cell_type": "markdown",
   "source": "7. Feature Engineering ",
   "id": "174860be7fd9c834"
  },
  {
   "metadata": {
    "ExecuteTime": {
     "end_time": "2025-05-06T03:19:32.187140Z",
     "start_time": "2025-05-06T03:19:23.231469Z"
    }
   },
   "cell_type": "code",
   "source": [
    "df['distance_squared'] = df['distance'] ** 2\n",
    "df['price_per_mile'] = df['price'] / df['distance']\n",
    "df.dropna(inplace=True)\n",
    "\n",
    "x = df.drop(columns=['price'], axis=1)\n",
    "y = df['price']\n",
    "X_scaled = scaler.fit_transform(x)\n",
    "X_train, X_test, y_train, y_test = train_test_split(X_scaled, y, test_size=0.2)\n",
    "\n",
    "\n",
    "ridge_final = Ridge(alpha = 10)\n",
    "ridge_final.fit(X_train, y_train)\n",
    "y_enhanced = ridge_final.predict(X_test)\n",
    "\n",
    "print(\"\\nAfter Feature Engineering:\")\n",
    "print(\"MAE:\", mean_absolute_error(y_test, y_enhanced))\n",
    "print(\"MSE:\", mean_squared_error(y_test, y_enhanced))\n",
    "print(\"R2:\", r2_score(y_test, y_enhanced))\n",
    "\n",
    "sns.histplot(y_test - y_enhanced, kde=True)\n",
    "plt.show()"
   ],
   "id": "90e9b23a2f6c1a9e",
   "outputs": [
    {
     "name": "stdout",
     "output_type": "stream",
     "text": [
      "\n",
      "After Feature Engineering:\n",
      "MAE: 1.7539000966476612\n",
      "MSE: 6.156263756655584\n",
      "R2: 0.9287149883556258\n"
     ]
    },
    {
     "data": {
      "text/plain": [
       "<Figure size 640x480 with 1 Axes>"
      ],
      "image/png": "[encoded data removed]"
     },
     "metadata": {},
     "output_type": "display_data"
    }
   ],
   "execution_count": 12
  },
  {
   "metadata": {},
   "cell_type": "markdown",
   "source": "8. Bonus: Time_based Feature + Transformations",
   "id": "a65781d03b9397e2"
  },
  {
   "metadata": {
    "ExecuteTime": {
     "end_time": "2025-05-06T03:23:52.288088Z",
     "start_time": "2025-05-06T03:23:37.890642Z"
    }
   },
   "cell_type": "code",
   "source": [
    "df_bonus = pd.read_csv('Data/rideshare_kaggle.csv')\n",
    "df_bonus = df_bonus[df_bonus['price'] > 0].dropna()\n",
    "\n",
    "\n",
    "df_bonus['hour'] = pd.to_datetime(df_bonus['timestamp'], unit='ms').dt.hour\n",
    "\n",
    "\n",
    "df_bonus['log_distance'] = np.log1p(df_bonus['distance'])\n",
    "df_bonus['distance_squared'] = df_bonus['distance'] ** 2\n",
    "df_bonus['price_per_mile'] = df_bonus['price'] / df_bonus['distance']\n",
    "\n",
    "\n",
    "df_bonus.drop(columns=['id', 'timezone', 'datetime', 'product_id', \"long_summary\", 'icon'], inplace=True)\n",
    "df_bonus = pd.get_dummies(df_bonus, columns=categorical_cols, drop_first=True)\n",
    "df_bonus.drop(columns=['timestamp'], inplace=True)\n",
    "\n",
    "\n",
    "\n",
    "df_bonus.dropna(inplace=True)\n",
    "\n",
    "\n",
    "x = df_bonus.drop(columns=['price'], axis=1)\n",
    "y = df_bonus['price']\n",
    "X_scaled = scaler.fit_transform(x)\n",
    "X_train, X_test, y_train, y_test = train_test_split(X_scaled, y, test_size=0.2)\n",
    "\n",
    "\n",
    "final_model = Ridge(alpha = 10)\n",
    "final_model.fit(X_train, y_train)\n",
    "y_final = final_model.predict(X_test)\n",
    "\n",
    "print(\"\\nBonus Model with Time & Transformations:\")\n",
    "print(\"MAE:\", mean_absolute_error(y_test, y_final))\n",
    "print(\"MSE:\", mean_squared_error(y_test, y_final))\n",
    "print(\"R2:\", r2_score(y_test, y_final))\n",
    "\n",
    "sns.histplot(y_test - y_final, kde=True)\n",
    "plt.show()"
   ],
   "id": "d3d56fddb77c8b2f",
   "outputs": [
    {
     "name": "stdout",
     "output_type": "stream",
     "text": [
      "\n",
      "Bonus Model with Time & Transformations:\n",
      "MAE: 1.7497320605281452\n",
      "MSE: 6.180263048700594\n",
      "R2: 0.9291141862086587\n"
     ]
    },
    {
     "data": {
      "text/plain": [
       "<Figure size 640x480 with 1 Axes>"
      ],
      "image/png": "[encoded data removed]"
     },
     "metadata": {},
     "output_type": "display_data"
    }
   ],
   "execution_count": 16
  }
 ],
 "metadata": {
  "kernelspec": {
   "display_name": "Python 3",
   "language": "python",
   "name": "python3"
  },
  "language_info": {
   "codemirror_mode": {
    "name": "ipython",
    "version": 2
   },
   "file_extension": ".py",
   "mimetype": "text/x-python",
   "name": "python",
   "nbconvert_exporter": "python",
   "pygments_lexer": "ipython2",
   "version": "2.7.6"
  }
 },
 "nbformat": 4,
 "nbformat_minor": 5
}
